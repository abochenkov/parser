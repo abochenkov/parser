{
 "cells": [
  {
   "cell_type": "markdown",
   "metadata": {},
   "source": [
    "Example parsing from cian.ru (https://www.cian.ru/kupit-kvartiru-1-komn-ili-2-komn/)"
   ]
  },
  {
   "cell_type": "code",
   "execution_count": null,
   "metadata": {},
   "outputs": [],
   "source": [
    "from bs4 import BeautifulSoup\n",
    "from urllib import request \n",
    "\n",
    "file = request.urlopen(\"https://www.cian.ru/kupit-kvartiru-1-komn-ili-2-komn/\")\n",
    "\n",
    "soup = BeautifulSoup(file, \"html.parser\")\n",
    "\n",
    "price_part = soup.find(\"div\", class_=\"_93444fe79c--wrapper--E9jWb\").find_all(\"div\", class_=\"c6e8ba5398--header--1dF9r\")\n",
    "\n",
    "for price in price_part:\n",
    "    print(price.text)"
   ]
  }
 ],
 "metadata": {
  "kernelspec": {
   "display_name": "Python 3",
   "language": "python",
   "name": "python3"
  },
  "language_info": {
   "codemirror_mode": {
    "name": "ipython",
    "version": 3
   },
   "file_extension": ".py",
   "mimetype": "text/x-python",
   "name": "python",
   "nbconvert_exporter": "python",
   "pygments_lexer": "ipython3",
   "version": "3.6.9"
  }
 },
 "nbformat": 4,
 "nbformat_minor": 2
}
